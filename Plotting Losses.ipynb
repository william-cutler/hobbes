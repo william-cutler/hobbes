{
 "cells": [
  {
   "cell_type": "code",
   "execution_count": 3,
   "id": "843e61ca",
   "metadata": {},
   "outputs": [
    {
     "data": {
      "text/html": [
       "\n",
       "      <iframe id=\"tensorboard-frame-1f49ab9e7da1f83f\" width=\"100%\" height=\"800\" frameborder=\"0\">\n",
       "      </iframe>\n",
       "      <script>\n",
       "        (function() {\n",
       "          const frame = document.getElementById(\"tensorboard-frame-1f49ab9e7da1f83f\");\n",
       "          const url = new URL(\"/\", window.location);\n",
       "          const port = 6008;\n",
       "          if (port) {\n",
       "            url.port = port;\n",
       "          }\n",
       "          frame.src = url;\n",
       "        })();\n",
       "      </script>\n",
       "    "
      ],
      "text/plain": [
       "<IPython.core.display.HTML object>"
      ]
     },
     "metadata": {},
     "output_type": "display_data"
    }
   ],
   "source": [
    "# model1, train on one example from debug dataset\n",
    "%reload_ext tensorboard\n",
    "%tensorboard --logdir /home/grail/willaria_research/hobbes/hobbes_models/hobbes_agent/old_models/outputs/2022-12-05/16-09-27/logs/model1/lightning_logs/version_0/"
   ]
  },
  {
   "cell_type": "code",
   "execution_count": 2,
   "id": "24827a5d",
   "metadata": {},
   "outputs": [
    {
     "data": {
      "text/html": [
       "\n",
       "      <iframe id=\"tensorboard-frame-263a163ba4337b96\" width=\"100%\" height=\"800\" frameborder=\"0\">\n",
       "      </iframe>\n",
       "      <script>\n",
       "        (function() {\n",
       "          const frame = document.getElementById(\"tensorboard-frame-263a163ba4337b96\");\n",
       "          const url = new URL(\"/\", window.location);\n",
       "          const port = 6007;\n",
       "          if (port) {\n",
       "            url.port = port;\n",
       "          }\n",
       "          frame.src = url;\n",
       "        })();\n",
       "      </script>\n",
       "    "
      ],
      "text/plain": [
       "<IPython.core.display.HTML object>"
      ]
     },
     "metadata": {},
     "output_type": "display_data"
    }
   ],
   "source": [
    "# model 2\n",
    "# train on \"task_D_D\" dataset\n",
    "# on task \"turn_off_lightbulb\"\n",
    "# with all examples\n",
    "\n",
    "%reload_ext tensorboard\n",
    "%tensorboard --logdir /home/grail/willaria_research/hobbes/hobbes_models/hobbes_agent/old_models/logs/model2/lightning_logs/version_4"
   ]
  },
  {
   "cell_type": "code",
   "execution_count": 3,
   "id": "ba4be7e8",
   "metadata": {},
   "outputs": [
    {
     "data": {
      "text/html": [
       "\n",
       "      <iframe id=\"tensorboard-frame-7be832cbc9c79498\" width=\"100%\" height=\"800\" frameborder=\"0\">\n",
       "      </iframe>\n",
       "      <script>\n",
       "        (function() {\n",
       "          const frame = document.getElementById(\"tensorboard-frame-7be832cbc9c79498\");\n",
       "          const url = new URL(\"/\", window.location);\n",
       "          const port = 6008;\n",
       "          if (port) {\n",
       "            url.port = port;\n",
       "          }\n",
       "          frame.src = url;\n",
       "        })();\n",
       "      </script>\n",
       "    "
      ],
      "text/plain": [
       "<IPython.core.display.HTML object>"
      ]
     },
     "metadata": {},
     "output_type": "display_data"
    }
   ],
   "source": [
    "# model 2\n",
    "# train on \"task_D_D\" dataset\n",
    "# on task \"stack_block\"\n",
    "# with all examples\n",
    "\n",
    "%reload_ext tensorboard\n",
    "%tensorboard --logdir /home/grail/willaria_research/hobbes/hobbes_models/hobbes_agent/old_models/logs/model2/stack_block/lightning_logs/version_0"
   ]
  },
  {
   "cell_type": "code",
   "execution_count": 4,
   "id": "08555783",
   "metadata": {},
   "outputs": [
    {
     "data": {
      "text/html": [
       "\n",
       "      <iframe id=\"tensorboard-frame-e97e18ca2796eb\" width=\"100%\" height=\"800\" frameborder=\"0\">\n",
       "      </iframe>\n",
       "      <script>\n",
       "        (function() {\n",
       "          const frame = document.getElementById(\"tensorboard-frame-e97e18ca2796eb\");\n",
       "          const url = new URL(\"/\", window.location);\n",
       "          const port = 6009;\n",
       "          if (port) {\n",
       "            url.port = port;\n",
       "          }\n",
       "          frame.src = url;\n",
       "        })();\n",
       "      </script>\n",
       "    "
      ],
      "text/plain": [
       "<IPython.core.display.HTML object>"
      ]
     },
     "metadata": {},
     "output_type": "display_data"
    }
   ],
   "source": [
    "# model 2\n",
    "# train on \"task_D_D\" dataset\n",
    "# on task \"turn_on_lightbulb\"\n",
    "# with all examples\n",
    "\n",
    "%reload_ext tensorboard\n",
    "%tensorboard --logdir /home/grail/willaria_research/hobbes/hobbes_models/hobbes_agent/old_models/logs/model2/turn_on_lightbulb/lightning_logs/version_1"
   ]
  },
  {
   "cell_type": "code",
   "execution_count": 5,
   "id": "be64e87d",
   "metadata": {},
   "outputs": [
    {
     "data": {
      "text/html": [
       "\n",
       "      <iframe id=\"tensorboard-frame-c402cbf28210f2aa\" width=\"100%\" height=\"800\" frameborder=\"0\">\n",
       "      </iframe>\n",
       "      <script>\n",
       "        (function() {\n",
       "          const frame = document.getElementById(\"tensorboard-frame-c402cbf28210f2aa\");\n",
       "          const url = new URL(\"/\", window.location);\n",
       "          const port = 6010;\n",
       "          if (port) {\n",
       "            url.port = port;\n",
       "          }\n",
       "          frame.src = url;\n",
       "        })();\n",
       "      </script>\n",
       "    "
      ],
      "text/plain": [
       "<IPython.core.display.HTML object>"
      ]
     },
     "metadata": {},
     "output_type": "display_data"
    }
   ],
   "source": [
    "# model 3\n",
    "\n",
    "%reload_ext tensorboard\n",
    "%tensorboard --logdir /home/grail/willaria_research/hobbes/hobbes_models/hobbes_agent/old_models/logs/model3/lightning_logs/version_3"
   ]
  },
  {
   "cell_type": "code",
   "execution_count": 1,
   "id": "dcfb9eab",
   "metadata": {},
   "outputs": [
    {
     "data": {
      "text/html": [
       "\n",
       "      <iframe id=\"tensorboard-frame-af24ad0168e07e78\" width=\"100%\" height=\"800\" frameborder=\"0\">\n",
       "      </iframe>\n",
       "      <script>\n",
       "        (function() {\n",
       "          const frame = document.getElementById(\"tensorboard-frame-af24ad0168e07e78\");\n",
       "          const url = new URL(\"/\", window.location);\n",
       "          const port = 6006;\n",
       "          if (port) {\n",
       "            url.port = port;\n",
       "          }\n",
       "          frame.src = url;\n",
       "        })();\n",
       "      </script>\n",
       "    "
      ],
      "text/plain": [
       "<IPython.core.display.HTML object>"
      ]
     },
     "metadata": {},
     "output_type": "display_data"
    }
   ],
   "source": [
    "# model 3\n",
    "# pretrain on \"task_D_D\" dataset\n",
    "\n",
    "%reload_ext tensorboard\n",
    "%tensorboard --logdir /home/grail/willaria_research/hobbes/hobbes_models/hobbes_agent/old_models/logs/model3/lightning_logs/version_4"
   ]
  },
  {
   "cell_type": "code",
   "execution_count": 6,
   "id": "a7cc4715",
   "metadata": {},
   "outputs": [
    {
     "data": {
      "text/html": [
       "\n",
       "      <iframe id=\"tensorboard-frame-351d6d83eee6fb56\" width=\"100%\" height=\"800\" frameborder=\"0\">\n",
       "      </iframe>\n",
       "      <script>\n",
       "        (function() {\n",
       "          const frame = document.getElementById(\"tensorboard-frame-351d6d83eee6fb56\");\n",
       "          const url = new URL(\"/\", window.location);\n",
       "          const port = 6011;\n",
       "          if (port) {\n",
       "            url.port = port;\n",
       "          }\n",
       "          frame.src = url;\n",
       "        })();\n",
       "      </script>\n",
       "    "
      ],
      "text/plain": [
       "<IPython.core.display.HTML object>"
      ]
     },
     "metadata": {},
     "output_type": "display_data"
    }
   ],
   "source": [
    "# model 3\n",
    "# finetune on \"task_D_D\" dataset\n",
    "# on task \"push_pink_block_left\" and \"push_pink_block_right\"\n",
    "# with all examples\n",
    "\n",
    "%reload_ext tensorboard\n",
    "%tensorboard --logdir /home/grail/willaria_research/hobbes/hobbes_models/hobbes_agent/old_models/logs/model3/lightning_logs/version_5"
   ]
  },
  {
   "cell_type": "code",
   "execution_count": 9,
   "id": "a9522500",
   "metadata": {},
   "outputs": [
    {
     "data": {
      "text/plain": [
       "Reusing TensorBoard on port 6012 (pid 228258), started 15:38:32 ago. (Use '!kill 228258' to kill it.)"
      ]
     },
     "metadata": {},
     "output_type": "display_data"
    },
    {
     "data": {
      "text/html": [
       "\n",
       "      <iframe id=\"tensorboard-frame-faa9c0ad94e69617\" width=\"100%\" height=\"800\" frameborder=\"0\">\n",
       "      </iframe>\n",
       "      <script>\n",
       "        (function() {\n",
       "          const frame = document.getElementById(\"tensorboard-frame-faa9c0ad94e69617\");\n",
       "          const url = new URL(\"/\", window.location);\n",
       "          const port = 6012;\n",
       "          if (port) {\n",
       "            url.port = port;\n",
       "          }\n",
       "          frame.src = url;\n",
       "        })();\n",
       "      </script>\n",
       "    "
      ],
      "text/plain": [
       "<IPython.core.display.HTML object>"
      ]
     },
     "metadata": {},
     "output_type": "display_data"
    }
   ],
   "source": [
    "# model 3\n",
    "# finetune on \"task_D_D\" dataset\n",
    "# on tasks {\"turn_off_lightbulb\", \"turn_on_lightbulb\", \"turn_off_led\", \"turn_on_led\"}\n",
    "# with all examples\n",
    "\n",
    "%reload_ext tensorboard\n",
    "%tensorboard --logdir /home/grail/willaria_research/hobbes/hobbes_models/hobbes_agent/old_models/logs/model3/lightning_logs/version_6"
   ]
  },
  {
   "cell_type": "code",
   "execution_count": 8,
   "id": "ac95cb1a",
   "metadata": {},
   "outputs": [
    {
     "data": {
      "text/html": [
       "\n",
       "      <iframe id=\"tensorboard-frame-e16e7e8e0ed34fbf\" width=\"100%\" height=\"800\" frameborder=\"0\">\n",
       "      </iframe>\n",
       "      <script>\n",
       "        (function() {\n",
       "          const frame = document.getElementById(\"tensorboard-frame-e16e7e8e0ed34fbf\");\n",
       "          const url = new URL(\"/\", window.location);\n",
       "          const port = 6013;\n",
       "          if (port) {\n",
       "            url.port = port;\n",
       "          }\n",
       "          frame.src = url;\n",
       "        })();\n",
       "      </script>\n",
       "    "
      ],
      "text/plain": [
       "<IPython.core.display.HTML object>"
      ]
     },
     "metadata": {},
     "output_type": "display_data"
    }
   ],
   "source": [
    "# model 3\n",
    "# finetune on \"task_D_D\" dataset\n",
    "# on tasks {\"turn_on_lightbulb\", \"push_pink_block_left\"}\n",
    "# with all examples\n",
    "\n",
    "%reload_ext tensorboard\n",
    "%tensorboard --logdir /home/grail/willaria_research/hobbes/hobbes_models/hobbes_agent/old_models/logs/model3/lightning_logs/version_7"
   ]
  },
  {
   "cell_type": "code",
   "execution_count": null,
   "id": "8b7b182d",
   "metadata": {},
   "outputs": [],
   "source": []
  }
 ],
 "metadata": {
  "kernelspec": {
   "display_name": "Python 3 (ipykernel)",
   "language": "python",
   "name": "python3"
  },
  "language_info": {
   "codemirror_mode": {
    "name": "ipython",
    "version": 3
   },
   "file_extension": ".py",
   "mimetype": "text/x-python",
   "name": "python",
   "nbconvert_exporter": "python",
   "pygments_lexer": "ipython3",
   "version": "3.8.15"
  }
 },
 "nbformat": 4,
 "nbformat_minor": 5
}
