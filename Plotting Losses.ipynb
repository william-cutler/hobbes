{
 "cells": [
  {
   "cell_type": "code",
   "execution_count": 3,
   "id": "843e61ca",
   "metadata": {},
   "outputs": [
    {
     "data": {
      "text/html": [
       "\n",
       "      <iframe id=\"tensorboard-frame-1f49ab9e7da1f83f\" width=\"100%\" height=\"800\" frameborder=\"0\">\n",
       "      </iframe>\n",
       "      <script>\n",
       "        (function() {\n",
       "          const frame = document.getElementById(\"tensorboard-frame-1f49ab9e7da1f83f\");\n",
       "          const url = new URL(\"/\", window.location);\n",
       "          const port = 6008;\n",
       "          if (port) {\n",
       "            url.port = port;\n",
       "          }\n",
       "          frame.src = url;\n",
       "        })();\n",
       "      </script>\n",
       "    "
      ],
      "text/plain": [
       "<IPython.core.display.HTML object>"
      ]
     },
     "metadata": {},
     "output_type": "display_data"
    }
   ],
   "source": [
    "# model1, train on one example from debug dataset\n",
    "%reload_ext tensorboard\n",
    "%tensorboard --logdir /home/grail/willaria_research/hobbes/hobbes_models/hobbes_agent/old_models/outputs/2022-12-05/16-09-27/logs/model1/lightning_logs/version_0/"
   ]
  },
  {
   "cell_type": "code",
   "execution_count": 10,
   "id": "24827a5d",
   "metadata": {},
   "outputs": [
    {
     "data": {
      "text/html": [
       "\n",
       "      <iframe id=\"tensorboard-frame-324ffea11c299f19\" width=\"100%\" height=\"800\" frameborder=\"0\">\n",
       "      </iframe>\n",
       "      <script>\n",
       "        (function() {\n",
       "          const frame = document.getElementById(\"tensorboard-frame-324ffea11c299f19\");\n",
       "          const url = new URL(\"/\", window.location);\n",
       "          const port = 6014;\n",
       "          if (port) {\n",
       "            url.port = port;\n",
       "          }\n",
       "          frame.src = url;\n",
       "        })();\n",
       "      </script>\n",
       "    "
      ],
      "text/plain": [
       "<IPython.core.display.HTML object>"
      ]
     },
     "metadata": {},
     "output_type": "display_data"
    }
   ],
   "source": [
    "# model 2\n",
    "# train on \"task_D_D\" dataset\n",
    "# on task \"turn_off_lightbulb\"\n",
    "# with all examples\n",
    "\n",
    "%reload_ext tensorboard\n",
    "%tensorboard --logdir /home/grail/willaria_research/hobbes/hobbes_models/hobbes_agent/old_models/logs/model2/lightning_logs/version_4"
   ]
  },
  {
   "cell_type": "code",
   "execution_count": 1,
   "id": "ba4be7e8",
   "metadata": {},
   "outputs": [
    {
     "data": {
      "text/html": [
       "\n",
       "      <iframe id=\"tensorboard-frame-c45ea03bde107be1\" width=\"100%\" height=\"800\" frameborder=\"0\">\n",
       "      </iframe>\n",
       "      <script>\n",
       "        (function() {\n",
       "          const frame = document.getElementById(\"tensorboard-frame-c45ea03bde107be1\");\n",
       "          const url = new URL(\"/\", window.location);\n",
       "          const port = 6006;\n",
       "          if (port) {\n",
       "            url.port = port;\n",
       "          }\n",
       "          frame.src = url;\n",
       "        })();\n",
       "      </script>\n",
       "    "
      ],
      "text/plain": [
       "<IPython.core.display.HTML object>"
      ]
     },
     "metadata": {},
     "output_type": "display_data"
    }
   ],
   "source": [
    "# model 2\n",
    "# train on \"task_D_D\" dataset\n",
    "# on task \"stack_block\"\n",
    "# with all examples\n",
    "\n",
    "%reload_ext tensorboard\n",
    "%tensorboard --logdir /home/grail/willaria_research/hobbes/hobbes_models/hobbes_agent/old_models/logs/model2/stack_block/lightning_logs/version_0"
   ]
  },
  {
   "cell_type": "code",
   "execution_count": 2,
   "id": "08555783",
   "metadata": {},
   "outputs": [
    {
     "data": {
      "text/html": [
       "\n",
       "      <iframe id=\"tensorboard-frame-e0b272902c07599a\" width=\"100%\" height=\"800\" frameborder=\"0\">\n",
       "      </iframe>\n",
       "      <script>\n",
       "        (function() {\n",
       "          const frame = document.getElementById(\"tensorboard-frame-e0b272902c07599a\");\n",
       "          const url = new URL(\"/\", window.location);\n",
       "          const port = 6007;\n",
       "          if (port) {\n",
       "            url.port = port;\n",
       "          }\n",
       "          frame.src = url;\n",
       "        })();\n",
       "      </script>\n",
       "    "
      ],
      "text/plain": [
       "<IPython.core.display.HTML object>"
      ]
     },
     "metadata": {},
     "output_type": "display_data"
    }
   ],
   "source": [
    "# model 2\n",
    "# train on \"task_D_D\" dataset\n",
    "# on task \"turn_on_lightbulb\"\n",
    "# with all examples\n",
    "\n",
    "%reload_ext tensorboard\n",
    "%tensorboard --logdir /home/grail/willaria_research/hobbes/hobbes_models/hobbes_agent/old_models/logs/model2/turn_on_lightbulb/lightning_logs/version_1"
   ]
  },
  {
   "cell_type": "code",
   "execution_count": null,
   "id": "be64e87d",
   "metadata": {},
   "outputs": [],
   "source": []
  }
 ],
 "metadata": {
  "kernelspec": {
   "display_name": "Python 3 (ipykernel)",
   "language": "python",
   "name": "python3"
  },
  "language_info": {
   "codemirror_mode": {
    "name": "ipython",
    "version": 3
   },
   "file_extension": ".py",
   "mimetype": "text/x-python",
   "name": "python",
   "nbconvert_exporter": "python",
   "pygments_lexer": "ipython3",
   "version": "3.8.13"
  }
 },
 "nbformat": 4,
 "nbformat_minor": 5
}
